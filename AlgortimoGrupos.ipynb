{
  "metadata": {
    "language_info": {
      "codemirror_mode": {
        "name": "python",
        "version": 3
      },
      "file_extension": ".py",
      "mimetype": "text/x-python",
      "name": "python",
      "nbconvert_exporter": "python",
      "pygments_lexer": "ipython3",
      "version": "3.8"
    },
    "kernelspec": {
      "name": "python",
      "display_name": "Python (Pyodide)",
      "language": "python"
    }
  },
  "nbformat_minor": 4,
  "nbformat": 4,
  "cells": [
    {
      "cell_type": "code",
      "source": "#se crea un diccionario que representa la tabla de operaciones\n#la llave es una tupla de dos valores y su valor es el resultado\n#se me hizo que facilitó más a la hora de verificar las propiedades ya que de por si no es \n#natural definir algo como a*b=c\ntabla = {\n    ('e', 'e'): 'e', ('e', 'a'): 'a', ('e', 'b'): 'b', ('e', 'c'): 'c',\n                     ('a', 'e'): 'a', ('b', 'e'): 'b', ('c', 'e'): 'c',\n    ('a', 'a'): 'e', ('a', 'b'): 'c', ('a', 'c'): 'b', \n                     ('b', 'a'): 'c', ('c', 'a'): 'b', ('c', 'b'): 'a', \n    ('b', 'b'): 'e', ('b', 'c'): 'a',\n    ('c', 'c'): 'e'\n    \n}\n\n#se crea el conjunto en forma de set el cual usaremos para para verificar por ejemplo\n#que alguna operación (key) dentro del diccionario, el valor pertenezca al conjunto (propieadd clausurativa) \nconjunto = {'e', 'a', 'b', 'c'}\n",
      "metadata": {
        "trusted": true
      },
      "execution_count": 17,
      "outputs": []
    },
    {
      "cell_type": "code",
      "source": "#para cada propiedad cree una función, van de la más \"fácil\" a la mas interesante.\n#todas reciben como argumentos la tabla y el conjunto\ndef Clausura(tabla, conjunto):\n    #en  general para todas las propiedades se recorre cada elemento del conjunto tal que queden parejas\n    # de numeros del conjuno dentro del for\n    for a in conjunto:\n        for b in conjunto:\n            #acá en la condición y en general para (a,b) es para probar operaciones a*b. a y b pertenecientes al conjunto\n            #si la llave (a,b) (la operación a*b no está en la tabla) o si el valor de (a,b) ( el resultado de la operación a*b)  \n            #no está en el conjunto, entonces la operación no da un resultado perteneciente al conjunto, por tanto no cumple clausura\n            if (a, b) not in tabla or tabla[(a, b)] not in conjunto:\n                return False\n    #si pasa todas las pruebas entonces significa que todas las operaciones de la tabla dan resultados pertenecientes\n    #al conjunto, por tanto cumple clausura\n    return True\n",
      "metadata": {
        "trusted": true
      },
      "execution_count": 18,
      "outputs": []
    },
    {
      "cell_type": "code",
      "source": "\ndef Asociativad(tabla, conjunto):\n    #para la asociatividad recorremos hacemos un recorrido con 3 for anidados, esto porque queremos verificar\n    # la igualdad a*(b*c)=(a*b)*c (3 elementos), por tanto si queremos verificar la operación entre n elementos del conjunto\n    # necesitaremos n fors anidados.\n    for a in conjunto:\n        for b in conjunto:\n            for c in conjunto:\n                #como se dijo anteriormente,comparar a*(b*c)=(a*b)*c\n                # Para el primer caso que no se cumpla (contra ejemplo) irá a False\n                #de por si tabla[(b, c)] y tabla[(a, b)] están en el diccionario como resultados de b*c y a*b\n                # al principio creí que sería la propiedad más compleja de plantear pero fue sencillo\n                 if tabla[(a, tabla[(b, c)])] != tabla[(tabla[(a, b)], c)]:\n                    return False\n    return True",
      "metadata": {
        "trusted": true
      },
      "execution_count": 19,
      "outputs": []
    },
    {
      "cell_type": "code",
      "source": "#en estas dos funciones usé la misma lógica, una  (ElementoNeutro) retorna un bool y otra (BuscadorElementoNeutro) \n#retorna cual es el elemento neutro en si\n#def ElementoNeutro(tabla, conjunto):\n#    #en principio decimos que existe un neutro,si despues de la prueba no hay nada que modifique el valor de HayNeutro, entonces se mantendrá \n    # y \n#    HayNeutro = True\n#    for a in conjunto:\n#        for b in conjunto:\n#            #acá se verifica que la operación a*b=b o que b*a=b\n            #es decir que existe un a del conjunto que devuelve el mismo b \n            \n#             if tabla[(a,b)]!=b or tabla[(b,a)]!=b:\n#                    #si no se cumple cambia el valor de la variable y para el for b in conjunto para pasar al for anterior 1.\n#                    HayIdentidad = False\n#                    break\n    # 1. una vez en este for, verifica el valor de Hay neutro y dependiendo de eso retorna un bool                \n#    if HayNeutro: \n#        return True\n#    else:\n#        return False\n    \n\n#Acá me di cuenta que podria ahorrar la función de arriba, si encontró un neutro es porque hay un neutro. más abajo muestro como sim\ndef BuscadorElementoNeutro(tabla, conjunto):\n    for a in conjunto:\n        EsNeutro = True\n        for b in conjunto:\n            if tabla[(a,b)] != b or tabla[(b,a)] != b:\n                EsNeutro = False\n                break\n        if EsNeutro:\n            return a\n    return None\n\n",
      "metadata": {
        "trusted": true
      },
      "execution_count": 20,
      "outputs": []
    },
    {
      "cell_type": "code",
      "source": "def Inverso(tabla, conjunto):\n    for a in conjunto:\n        #acá empezando diciendo que no tiene neutro. por lo menos a que haya un elemento que satisfaga la condición que  modifique esa condición\n        TieneInverso = False\n        for b in conjunto:\n            #la condición es que el elemento inverso opere tanto a la izquierda como la derecha y nos dé el elemento neutro encontrado\n            if tabla[(a, b)] == BuscadorElementoNeutro(tabla,conjunto) and tabla[(b, a)] == BuscadorElementoNeutro(tabla,conjunto):\n                TieneInverso = True\n                break\n            \n        if not TieneInverso:\n            return False\n    return True",
      "metadata": {
        "trusted": true
      },
      "execution_count": 21,
      "outputs": []
    },
    {
      "cell_type": "code",
      "source": "HayClausura = Clausura(tabla, conjunto)\n\nif HayClausura:\n    print(\"La operación es cerrada\")\nelse:\n    print(\"La operación no es cerrada\")  \n\n# acá para esta condición tomé la decisión de usar en si la función que me devuelve el elemento neutro\n# unicamente ya que está me dice si hubo y cual fue el elemento neutro\nif BuscadorElementoNeutro(tabla, conjunto) is None:\n    HayElementoNeutro=False\nelse:\n    HayElementoNeutro=True\n\nif HayElementoNeutro:\n    print(\"La operación no tiene elemento neutro(BuscadorElementoNeutro = None) \")\nelse:\n    print(\"La operación tiene elemento neutro \",BuscadorElementoNeutro(tabla,conjunto))  \nHayInverso = Inverso(tabla, conjunto)\n\nif HayInverso:\n    print(\"La operación tiene inverso\")\nelse:\n    print(\"La operación no tiene inverso ya que no hay un neutro definido\")  \nHayAsociatividad=Asociativad(tabla, conjunto)\n\nif HayAsociatividad:\n    print(\"La operación cumple con asociatividad\")\nelse:\n    print(\"La operación no cumple con asociatividad\")  \n\nif HayClausura and HayInverso and HayAsociatividad and HayElementoNeutro:\n    print(\"La operación cumple con todas las condiciones para ser un grupo\")\nelse:\n    print(\"La operación no cumple con todas las condiciones para ser un grupo\")",
      "metadata": {
        "trusted": true
      },
      "execution_count": 22,
      "outputs": [
        {
          "name": "stdout",
          "text": "La operación es cerrada\nLa operación no tiene elemento neutro(BuscadorElementoNeutro = None) \nLa operación tiene inverso\nLa operación cumple con asociatividad\nLa operación cumple con todas las condiciones para ser un grupo\n",
          "output_type": "stream"
        }
      ]
    },
    {
      "cell_type": "code",
      "source": "",
      "metadata": {},
      "execution_count": null,
      "outputs": []
    },
    {
      "cell_type": "code",
      "source": "",
      "metadata": {},
      "execution_count": null,
      "outputs": []
    }
  ]
}